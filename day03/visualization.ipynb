{
 "cells": [
  {
   "cell_type": "markdown",
   "metadata": {},
   "source": [
    "# Titanic Data"
   ]
  },
  {
   "cell_type": "markdown",
   "metadata": {},
   "source": [
    "## Summary Statistics"
   ]
  },
  {
   "cell_type": "code",
   "execution_count": null,
   "metadata": {
    "collapsed": false
   },
   "outputs": [],
   "source": [
    "%matplotlib inline\n",
    "\n",
    "#Importing Modules\n",
    "from pandas import DataFrame, Series\n",
    "import numpy as np\n",
    "import pandas as pd\n",
    "import matplotlib.pyplot as plt"
   ]
  },
  {
   "cell_type": "code",
   "execution_count": null,
   "metadata": {
    "collapsed": false
   },
   "outputs": [],
   "source": [
    "#Read in Data\n",
    "df = pd.read_csv('../datasets/titanic/train.csv') \n"
   ]
  },
  {
   "cell_type": "code",
   "execution_count": null,
   "metadata": {
    "collapsed": false
   },
   "outputs": [],
   "source": [
    "#Data diagnostics\n",
    "\n",
    "# It is often a good idea to always start with a question that might affect the target variable you are trying to predict. \n",
    "df.shape"
   ]
  },
  {
   "cell_type": "code",
   "execution_count": null,
   "metadata": {
    "collapsed": false
   },
   "outputs": [],
   "source": [
    "df.head()"
   ]
  },
  {
   "cell_type": "code",
   "execution_count": null,
   "metadata": {
    "collapsed": false
   },
   "outputs": [],
   "source": [
    "df.describe()"
   ]
  },
  {
   "cell_type": "code",
   "execution_count": null,
   "metadata": {
    "collapsed": false
   },
   "outputs": [],
   "source": [
    "df.dtypes"
   ]
  },
  {
   "cell_type": "code",
   "execution_count": null,
   "metadata": {
    "collapsed": false
   },
   "outputs": [],
   "source": [
    "df.describe(include=['O'])"
   ]
  },
  {
   "cell_type": "code",
   "execution_count": null,
   "metadata": {
    "collapsed": false
   },
   "outputs": [],
   "source": [
    "df.columns"
   ]
  },
  {
   "cell_type": "code",
   "execution_count": null,
   "metadata": {
    "collapsed": false
   },
   "outputs": [],
   "source": []
  },
  {
   "cell_type": "code",
   "execution_count": null,
   "metadata": {
    "collapsed": false
   },
   "outputs": [],
   "source": [
    "df['Survived'].mean()"
   ]
  },
  {
   "cell_type": "code",
   "execution_count": null,
   "metadata": {
    "collapsed": false
   },
   "outputs": [],
   "source": [
    "df.groupby('Sex')['Survived'].mean() #Groupby groups dataframe with selected variables so you can perform statistics on each group"
   ]
  },
  {
   "cell_type": "code",
   "execution_count": null,
   "metadata": {
    "collapsed": false
   },
   "outputs": [],
   "source": [
    "df.groupby('Sex')['Survived'].size() #Size counts the number in each group"
   ]
  },
  {
   "cell_type": "code",
   "execution_count": null,
   "metadata": {
    "collapsed": false
   },
   "outputs": [],
   "source": [
    "df.corr()"
   ]
  },
  {
   "cell_type": "code",
   "execution_count": null,
   "metadata": {
    "collapsed": false
   },
   "outputs": [],
   "source": [
    "df.groupby('Pclass')['Survived'].mean()"
   ]
  },
  {
   "cell_type": "code",
   "execution_count": null,
   "metadata": {
    "collapsed": false
   },
   "outputs": [],
   "source": [
    "df['Fare_bins'] = pd.cut(df['Fare'],bins=[0,20,50,80,1000]) #Categorizing numerical data into bins for easy groupby\n",
    "df.groupby('Fare_bins')['Survived'].mean()"
   ]
  },
  {
   "cell_type": "code",
   "execution_count": null,
   "metadata": {
    "collapsed": false
   },
   "outputs": [],
   "source": [
    "df.groupby(['Sex','Fare_bins'])['Survived'].mean()"
   ]
  },
  {
   "cell_type": "code",
   "execution_count": null,
   "metadata": {
    "collapsed": false
   },
   "outputs": [],
   "source": [
    "df.groupby(['Sex','Fare_bins'])['Survived'].agg([np.mean,np.size,np.std])"
   ]
  },
  {
   "cell_type": "code",
   "execution_count": null,
   "metadata": {
    "collapsed": false
   },
   "outputs": [],
   "source": [
    "df.isnull().sum() #Counts missing values for each column"
   ]
  },
  {
   "cell_type": "code",
   "execution_count": null,
   "metadata": {
    "collapsed": true
   },
   "outputs": [],
   "source": [
    "def countInfs(series):\n",
    "    #Counts infinite values for a particular column\n",
    "    if (series.dtype == 'int64') | (series.dtype == 'float64'):\n",
    "        return sum((series > 1e20) | (series < -1e20))\n",
    "    else:\n",
    "        return 0"
   ]
  },
  {
   "cell_type": "code",
   "execution_count": null,
   "metadata": {
    "collapsed": false
   },
   "outputs": [],
   "source": [
    "df.select_dtypes(include=[np.number]).apply(countInfs,axis=0)"
   ]
  },
  {
   "cell_type": "code",
   "execution_count": null,
   "metadata": {
    "collapsed": false
   },
   "outputs": [],
   "source": [
    "df['SibSp'].value_counts() #Tabulates counts of each unique value"
   ]
  },
  {
   "cell_type": "markdown",
   "metadata": {},
   "source": [
    "## Data Visualizations"
   ]
  },
  {
   "cell_type": "code",
   "execution_count": null,
   "metadata": {
    "collapsed": false
   },
   "outputs": [],
   "source": [
    "#Pandas Histogram\n",
    "df['Age'].hist(bins=20)\n",
    "plt.title('Distribution of All Ages')\n",
    "plt.xlabel('Age')\n",
    "plt.ylabel('Counts')\n"
   ]
  },
  {
   "cell_type": "code",
   "execution_count": null,
   "metadata": {
    "collapsed": false
   },
   "outputs": [],
   "source": [
    "#Pandas Group By Histogram with Transparency\n",
    "df.groupby('Sex')['Age'].hist(bins=20,alpha=0.5)\n",
    "plt.legend(labels=['Female','Male'])\n",
    "plt.title('Distribution of Ages by Female and Male')"
   ]
  },
  {
   "cell_type": "code",
   "execution_count": null,
   "metadata": {
    "collapsed": false
   },
   "outputs": [],
   "source": [
    "#Pandas Group By Density\n",
    "df.groupby('Sex')['Age'].plot(kind='density')\n",
    "plt.legend(labels=['Female','Male'])\n",
    "plt.title('Distribution of Ages by Female and Male')"
   ]
  },
  {
   "cell_type": "code",
   "execution_count": null,
   "metadata": {
    "collapsed": false
   },
   "outputs": [],
   "source": [
    "#Pandas Scatterplot\n",
    "colors = ['blue','green','yellow']\n",
    "plt.scatter(df['Age'],df['Fare'],c=df[df.Age.notnull()]['Pclass'].apply(lambda x: colors[x-1]),alpha=0.5)\n",
    "plt.xlabel('Age')\n",
    "plt.ylabel('Fare Price')\n",
    "plt.title('Scatterplot of Fare Price vs. Age Colored by Class')\n"
   ]
  },
  {
   "cell_type": "code",
   "execution_count": null,
   "metadata": {
    "collapsed": false
   },
   "outputs": [],
   "source": [
    "#Subplots\n",
    "fig, axes = plt.subplots(2,1)\n",
    "df.Embarked.value_counts().plot(ax=axes[0],kind='bar')\n",
    "df.groupby('Embarked')['Age'].mean().plot(ax=axes[1],kind='bar')\n",
    "axes[0].set_title(\"Number of Passengers per Location\")\n",
    "axes[1].set_title(\"Mean Age per Location\")\n",
    "axes[1].set_xlabel(\"Location\")\n",
    "axes[0].set_ylabel(\"Counts\")\n",
    "axes[1].set_ylabel(\"Proportion\")"
   ]
  },
  {
   "cell_type": "markdown",
   "metadata": {},
   "source": [
    "## Prettier Data Visualizations - Seaborn"
   ]
  },
  {
   "cell_type": "code",
   "execution_count": null,
   "metadata": {
    "collapsed": false
   },
   "outputs": [],
   "source": [
    "!pip install seaborn"
   ]
  },
  {
   "cell_type": "code",
   "execution_count": null,
   "metadata": {
    "collapsed": false
   },
   "outputs": [],
   "source": [
    "import seaborn as sns\n",
    "#~/anaconda/bin/pip install seaborn if using anaconda, otherwise just use pip install\n",
    "\n",
    "sns.set_style(\"white\")\n",
    "\n",
    "fig, axes = plt.subplots(2,1)\n",
    "df.Embarked.value_counts().plot(ax=axes[0],kind='bar')\n",
    "df.groupby('Embarked')['Age'].mean().plot(ax=axes[1],kind='bar')\n",
    "axes[0].set_title(\"Number of Passengers per Location\")\n",
    "axes[1].set_title(\"Mean Age per Location\")\n",
    "axes[1].set_xlabel(\"Location\")\n",
    "axes[0].set_ylabel(\"Counts\")\n",
    "axes[1].set_ylabel(\"Proportion\")"
   ]
  },
  {
   "cell_type": "code",
   "execution_count": null,
   "metadata": {
    "collapsed": false,
    "scrolled": true
   },
   "outputs": [],
   "source": [
    "sns.stripplot(x=\"Embarked\", y=\"Age\", hue='Sex', data=df, jitter=True);\n",
    "sns.plt.title(\"Strip Plot with Seaborn\")\n"
   ]
  },
  {
   "cell_type": "markdown",
   "metadata": {
    "collapsed": true
   },
   "source": [
    "## Visualizing Missing Data"
   ]
  },
  {
   "cell_type": "code",
   "execution_count": null,
   "metadata": {
    "collapsed": false
   },
   "outputs": [],
   "source": [
    "!pip install missingno"
   ]
  },
  {
   "cell_type": "code",
   "execution_count": null,
   "metadata": {
    "collapsed": false,
    "scrolled": false
   },
   "outputs": [],
   "source": [
    "import missingno as msno\n",
    "msno.matrix(df)"
   ]
  }
 ],
 "metadata": {
  "kernelspec": {
   "display_name": "Python 3",
   "language": "python",
   "name": "python3"
  },
  "language_info": {
   "codemirror_mode": {
    "name": "ipython",
    "version": 3
   },
   "file_extension": ".py",
   "mimetype": "text/x-python",
   "name": "python",
   "nbconvert_exporter": "python",
   "pygments_lexer": "ipython3",
   "version": "3.5.0"
  }
 },
 "nbformat": 4,
 "nbformat_minor": 0
}

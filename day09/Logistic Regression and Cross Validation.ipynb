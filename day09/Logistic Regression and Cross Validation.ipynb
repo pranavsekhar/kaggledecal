{
 "cells": [
  {
   "cell_type": "markdown",
   "metadata": {},
   "source": [
    "# The Logistic Regression Model"
   ]
  },
  {
   "cell_type": "markdown",
   "metadata": {},
   "source": [
    "Below you will find code that demonstrates how to run and interpret a logistic regression model. As before, please refer to the slides to get a full understanding of the motivations and derivations behind logistic regression and importantly its relation with the linear model."
   ]
  },
  {
   "cell_type": "code",
   "execution_count": null,
   "metadata": {
    "collapsed": true
   },
   "outputs": [],
   "source": [
    "from pandas import DataFrame, Series\n",
    "import numpy as np\n",
    "import pandas as pd\n",
    "import matplotlib.pyplot as plt\n",
    "import statsmodels.api as sm\n",
    "from sklearn.cross_validation import train_test_split\n",
    "\n",
    "%matplotlib inline"
   ]
  },
  {
   "cell_type": "code",
   "execution_count": null,
   "metadata": {
    "collapsed": true
   },
   "outputs": [],
   "source": [
    "#Read in Titanic Data\n",
    "titanic = pd.read_csv(\"../../datasets/titanic/train.csv\")"
   ]
  },
  {
   "cell_type": "markdown",
   "metadata": {},
   "source": [
    "## Dealing with Categorical Data (One-Hot-Encoding)"
   ]
  },
  {
   "cell_type": "markdown",
   "metadata": {},
   "source": [
    "Categorical data, or data that have strings that denote something other than a numeric quantity, are extremely common in datasets. The catch is that, at least in Python, the vast majority of models do not know how to deal with categorical data - they prefer numeric data types only. At least in linear and logistic regression this makes intuitive sense because it doesn't make sense to invert a matrix of strings. What we do instead is do something called \"One-Hot-Encoding\"."
   ]
  },
  {
   "cell_type": "code",
   "execution_count": null,
   "metadata": {
    "collapsed": false
   },
   "outputs": [],
   "source": [
    "titanic_only = pd.get_dummies(titanic,columns=['Sex','Pclass','Embarked'],drop_first=True)\n",
    "titanic_only.head()"
   ]
  },
  {
   "cell_type": "markdown",
   "metadata": {},
   "source": [
    "If you notice closely, there are now more than one column that represents a categorical variable! Sex is split into a male only column (1 if the corresponding Sex element was male) and a female only column, which is NOT shown because we chose to drop it from drop_first. Drop_first drops a single column from the new columns we've generated because this again has to do with multicollinearity. If I know that someone is male, then I know for sure someone is not female. As a result, just holding the male column is enough information for our model to handle, and we won't need to worry about multicollinearity issues!\n",
    "\n",
    "This process of converting a categorical column into multiple columns containing 0's and 1's is called one-hot-encoding and this technique is by far the most common way of feeding in categorical data into a model. Another way of describing this process is getting \"dummy variables\" (hence pd.get_dummies) which just refer to the variables with 1's and 0's. "
   ]
  },
  {
   "cell_type": "markdown",
   "metadata": {},
   "source": [
    "## Validation Method"
   ]
  },
  {
   "cell_type": "code",
   "execution_count": null,
   "metadata": {
    "collapsed": true
   },
   "outputs": [],
   "source": [
    "#Drop columns we don't care about (yet) or have missing values (Models don't like missing values)\n",
    "titanic_only.drop(['PassengerId','Name','Ticket','Age','Cabin'],axis=1,inplace=True)"
   ]
  },
  {
   "cell_type": "code",
   "execution_count": null,
   "metadata": {
    "collapsed": true
   },
   "outputs": [],
   "source": [
    "#Train Test Splitting\n",
    "local_train, local_test = train_test_split(titanic_only,test_size=0.2,random_state=123)"
   ]
  },
  {
   "cell_type": "code",
   "execution_count": null,
   "metadata": {
    "collapsed": false
   },
   "outputs": [],
   "source": [
    "local_train.shape"
   ]
  },
  {
   "cell_type": "code",
   "execution_count": null,
   "metadata": {
    "collapsed": false
   },
   "outputs": [],
   "source": [
    "local_test.shape"
   ]
  },
  {
   "cell_type": "code",
   "execution_count": null,
   "metadata": {
    "collapsed": true
   },
   "outputs": [],
   "source": [
    "local_train_y = local_train[\"Survived\"]\n",
    "local_train_x = local_train.drop([\"Survived\"],axis=1)\n",
    "local_test_y = local_test[\"Survived\"]\n",
    "local_test_x = local_test.drop(\"Survived\",axis=1)"
   ]
  },
  {
   "cell_type": "code",
   "execution_count": null,
   "metadata": {
    "collapsed": false
   },
   "outputs": [],
   "source": [
    "#The Model\n",
    "clf = sm.Logit(local_train_y,local_train_x)\n",
    "result = clf.fit()\n",
    "preds = result.predict(local_test_x)"
   ]
  },
  {
   "cell_type": "code",
   "execution_count": null,
   "metadata": {
    "collapsed": false
   },
   "outputs": [],
   "source": [
    "#Accuracy of Logistic Model\n",
    "np.mean((preds > 0.5) == local_test_y)"
   ]
  },
  {
   "cell_type": "code",
   "execution_count": null,
   "metadata": {
    "collapsed": false
   },
   "outputs": [],
   "source": [
    "result.summary()"
   ]
  },
  {
   "cell_type": "markdown",
   "metadata": {},
   "source": [
    "## Now let's put some of the Data Cleaning and Feature Engineering from before to work!"
   ]
  },
  {
   "cell_type": "code",
   "execution_count": null,
   "metadata": {
    "collapsed": true
   },
   "outputs": [],
   "source": [
    "#Read in Titanic Data\n",
    "titanic = pd.read_csv(\"../../datasets/titanic/train.csv\")"
   ]
  },
  {
   "cell_type": "code",
   "execution_count": null,
   "metadata": {
    "collapsed": true
   },
   "outputs": [],
   "source": [
    "titanic_engineered = titanic.copy()"
   ]
  },
  {
   "cell_type": "code",
   "execution_count": null,
   "metadata": {
    "collapsed": true
   },
   "outputs": [],
   "source": [
    "#Imputing Age\n",
    "titanic_engineered['title'] = 'other'\n",
    "titanic_engineered.loc[['Master.' in n for n in titanic_engineered['Name']],'title'] = 'Master'\n",
    "titanic_engineered.loc[['Miss.' in n for n in titanic_engineered['Name']],'title'] = 'Miss'\n",
    "titanic_engineered.loc[['Mr.' in n for n in titanic_engineered['Name']],'title'] = 'Mr'\n",
    "titanic_engineered.loc[['Mrs.' in n for n in titanic_engineered['Name']],'title'] = 'Mrs'\n",
    "\n",
    "#Transform performs operation per group and returns values to their original index\n",
    "titanic_engineered['age_filled'] = titanic_engineered[['title','Age']].groupby('title').transform(lambda x: x.fillna(x.mean())) \n",
    "\n",
    "titanic_engineered.drop(['Age'],axis=1,inplace=True)"
   ]
  },
  {
   "cell_type": "code",
   "execution_count": null,
   "metadata": {
    "collapsed": true
   },
   "outputs": [],
   "source": [
    "#Cabin Side Feature\n",
    "titanic_engineered['cabin_side'] = 'Unknown'\n",
    "titanic_engineered.loc[titanic_engineered['Cabin'].str[-1].isin([\"1\", \"3\", \"5\", \"7\", \"9\"]),'cabin_side'] = 'starboard'\n",
    "titanic_engineered.loc[titanic_engineered['Cabin'].str[-1].isin([\"2\", \"4\", \"6\", \"8\", \"0\"]),'cabin_side'] = 'port'"
   ]
  },
  {
   "cell_type": "code",
   "execution_count": null,
   "metadata": {
    "collapsed": true
   },
   "outputs": [],
   "source": [
    "#Deck Feature (including some cleaning)\n",
    "titanic_engineered['deck'] = 'Unknown'\n",
    "titanic_engineered.loc[titanic_engineered['Cabin'].notnull(),'deck'] = titanic_engineered['Cabin'].str[0]\n",
    "titanic_engineered.loc[titanic_engineered['deck'] == 'T','deck'] = \"Unknown\""
   ]
  },
  {
   "cell_type": "code",
   "execution_count": null,
   "metadata": {
    "collapsed": true
   },
   "outputs": [],
   "source": [
    "#Deck Feature (including some cleaning)\n",
    "titanic_engineered['deck'] = 'Unknown'\n",
    "titanic_engineered.loc[titanic_engineered['Cabin'].notnull(),'deck'] = titanic_engineered['Cabin'].str[0]\n",
    "titanic_engineered.loc[titanic_engineered['deck'] == 'T','deck'] = \"Unknown\"\n",
    "\n",
    "pattern = \"[A-Z]\\s[A-Z]\" #Any capital letter between A-Z followed by a whitespace followed by any letter between A-Z\n",
    "mask = titanic_engineered['Cabin'].str.contains(pattern,na=False)\n",
    "titanic_engineered.loc[mask,'deck'] = titanic_engineered.loc[mask,'Cabin'].str[2]"
   ]
  },
  {
   "cell_type": "code",
   "execution_count": null,
   "metadata": {
    "collapsed": true
   },
   "outputs": [],
   "source": [
    "#Number cabins per person\n",
    "titanic_engineered['num_in_group'] = titanic_engineered['Cabin'].str.split().apply(lambda x: len(x) if type(x)!=float else 1)"
   ]
  },
  {
   "cell_type": "code",
   "execution_count": null,
   "metadata": {
    "collapsed": true
   },
   "outputs": [],
   "source": [
    "#Removing columns we don't want (that don't make sense to include anymore)\n",
    "#Notice we are NOT dropping the Age column anymore because we've filled in the missing values!\n",
    "titanic_engineered.drop(['PassengerId','Name','Ticket','Cabin','title'],axis=1,inplace=True)"
   ]
  },
  {
   "cell_type": "code",
   "execution_count": null,
   "metadata": {
    "collapsed": true
   },
   "outputs": [],
   "source": [
    "#Getting Dummy Variables\n",
    "titanic_engineered = pd.get_dummies(titanic_engineered,columns=['Sex','Pclass','Embarked','cabin_side','deck'],drop_first=True)"
   ]
  },
  {
   "cell_type": "code",
   "execution_count": null,
   "metadata": {
    "collapsed": false
   },
   "outputs": [],
   "source": [
    "titanic_engineered.head()"
   ]
  },
  {
   "cell_type": "code",
   "execution_count": null,
   "metadata": {
    "collapsed": true
   },
   "outputs": [],
   "source": [
    "#Train Test Splitting\n",
    "local_train, local_test = train_test_split(titanic_engineered,test_size=0.2,random_state=123)\n",
    "\n",
    "local_train_y = local_train[\"Survived\"]\n",
    "local_train_x = local_train.drop([\"Survived\"],axis=1)\n",
    "local_test_y = local_test[\"Survived\"]\n",
    "local_test_x = local_test.drop(\"Survived\",axis=1)"
   ]
  },
  {
   "cell_type": "code",
   "execution_count": null,
   "metadata": {
    "collapsed": false
   },
   "outputs": [],
   "source": [
    "#The Model\n",
    "clf = sm.Logit(local_train_y,local_train_x)\n",
    "result = clf.fit()\n",
    "preds = result.predict(local_test_x)"
   ]
  },
  {
   "cell_type": "code",
   "execution_count": null,
   "metadata": {
    "collapsed": false
   },
   "outputs": [],
   "source": [
    "#Accuracy of Logistic Model\n",
    "np.mean((preds > 0.5) == local_test_y)"
   ]
  },
  {
   "cell_type": "code",
   "execution_count": null,
   "metadata": {
    "collapsed": false
   },
   "outputs": [],
   "source": [
    "result.summary()"
   ]
  },
  {
   "cell_type": "markdown",
   "metadata": {},
   "source": [
    "## K-Fold Cross Validation (Basic Data Set)"
   ]
  },
  {
   "cell_type": "code",
   "execution_count": null,
   "metadata": {
    "collapsed": true
   },
   "outputs": [],
   "source": [
    "from sklearn.cross_validation import KFold"
   ]
  },
  {
   "cell_type": "code",
   "execution_count": null,
   "metadata": {
    "collapsed": true
   },
   "outputs": [],
   "source": [
    "#Splits data into our train and test indices for each fold\n",
    "kf = KFold(titanic_only.shape[0], n_folds=10)"
   ]
  },
  {
   "cell_type": "code",
   "execution_count": null,
   "metadata": {
    "collapsed": true
   },
   "outputs": [],
   "source": [
    "#Saves our accuracy scores for each fold\n",
    "outcomes = []\n",
    "\n",
    "#Keeps track of which fold we are currently in\n",
    "fold = 0"
   ]
  },
  {
   "cell_type": "code",
   "execution_count": null,
   "metadata": {
    "collapsed": false
   },
   "outputs": [],
   "source": [
    "for train_index, test_index in kf:\n",
    "    fold += 1\n",
    "    local_train_xy, local_test_xy = titanic_only.iloc[train_index], titanic_only.iloc[test_index]\n",
    "    local_train_y = local_train_xy['Survived']\n",
    "    local_train_x = local_train_xy.drop(['Survived'],axis=1)\n",
    "    local_test_y = local_test_xy['Survived']\n",
    "    local_test_x = local_test_xy.drop(['Survived'],axis=1)\n",
    "\n",
    "    clf = sm.Logit(local_train_y,local_train_x)\n",
    "    result = clf.fit()\n",
    "    preds = result.predict(local_test_x)\n",
    "    accuracy = np.mean((preds > 0.5) == local_test_y)\n",
    "\n",
    "    outcomes.append(accuracy)\n",
    "    print(\"Fold {0} accuracy: {1}\".format(fold, accuracy)) "
   ]
  },
  {
   "cell_type": "code",
   "execution_count": null,
   "metadata": {
    "collapsed": false
   },
   "outputs": [],
   "source": [
    "#Final Cross Validated (average) score\n",
    "mean_outcome = np.mean(outcomes)\n",
    "mean_outcome"
   ]
  },
  {
   "cell_type": "markdown",
   "metadata": {},
   "source": [
    "## K-Fold Cross Validation (Feature Engineered Data Set)"
   ]
  },
  {
   "cell_type": "code",
   "execution_count": null,
   "metadata": {
    "collapsed": true
   },
   "outputs": [],
   "source": [
    "#Saves our accuracy scores for each fold\n",
    "outcomes = []\n",
    "\n",
    "#Keeps track of which fold we are currently in\n",
    "fold = 0"
   ]
  },
  {
   "cell_type": "code",
   "execution_count": null,
   "metadata": {
    "collapsed": false
   },
   "outputs": [],
   "source": [
    "for train_index, test_index in kf:\n",
    "    fold += 1\n",
    "    local_train_xy, local_test_xy = titanic_engineered.iloc[train_index], titanic_engineered.iloc[test_index]\n",
    "    local_train_y = local_train_xy['Survived']\n",
    "    local_train_x = local_train_xy.drop(['Survived'],axis=1)\n",
    "    local_test_y = local_test_xy['Survived']\n",
    "    local_test_x = local_test_xy.drop(['Survived'],axis=1)\n",
    "\n",
    "    clf = sm.Logit(local_train_y,local_train_x)\n",
    "    result = clf.fit()\n",
    "    preds = result.predict(local_test_x)\n",
    "    accuracy = np.mean((preds > 0.5) == local_test_y)\n",
    "\n",
    "    outcomes.append(accuracy)\n",
    "    print(\"Fold {0} accuracy: {1}\".format(fold, accuracy)) \n",
    "\n",
    "    "
   ]
  },
  {
   "cell_type": "code",
   "execution_count": null,
   "metadata": {
    "collapsed": false
   },
   "outputs": [],
   "source": [
    "mean_outcome = np.mean(outcomes)\n",
    "mean_outcome"
   ]
  },
  {
   "cell_type": "code",
   "execution_count": null,
   "metadata": {
    "collapsed": true
   },
   "outputs": [],
   "source": []
  }
 ],
 "metadata": {
  "kernelspec": {
   "display_name": "Python 3",
   "language": "python",
   "name": "python3"
  },
  "language_info": {
   "codemirror_mode": {
    "name": "ipython",
    "version": 3
   },
   "file_extension": ".py",
   "mimetype": "text/x-python",
   "name": "python",
   "nbconvert_exporter": "python",
   "pygments_lexer": "ipython3",
   "version": "3.5.0"
  }
 },
 "nbformat": 4,
 "nbformat_minor": 0
}

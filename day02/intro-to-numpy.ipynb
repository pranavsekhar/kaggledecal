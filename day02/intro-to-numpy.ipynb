{
 "cells": [
  {
   "cell_type": "markdown",
   "metadata": {},
   "source": [
    "\n",
    "<h1 align=\"center\"> Data Science with Kaggle Decal </h1>\n",
    "<h2 align=\"center\"> Day 2 - Intro to Python </h2>"
   ]
  },
  {
   "cell_type": "code",
   "execution_count": 1,
   "metadata": {
    "collapsed": true
   },
   "outputs": [],
   "source": [
    "%matplotlib inline"
   ]
  },
  {
   "cell_type": "markdown",
   "metadata": {},
   "source": [
    "## Contents\n",
    "* [Why Python?](#Why-Python?)\n",
    "    - [Why Not MATLAB?](#Why-Not-MATLAB?)\n",
    "    - [Why Python 3?](#Why-Python-3?)\n",
    "* [How Python?](#How-Python?)\n",
    "* [More Python!](#More-Python!)\n",
    "\n",
    "*these links only work in the interactive version of the document*"
   ]
  },
  {
   "cell_type": "markdown",
   "metadata": {},
   "source": [
    "## Why Python?\n",
    "\n",
    "Python is, as of August 2016, one of the top five most popular programming languages according to the [TIOBE Index](http://www.tiobe.com/tiobe-index/). Of the five most popular languages, it is universally acclaimed as the easiest to use, as it operates at a higher level of abstraction than the other top contenders. This has lead to Python becoming the language of choice for teaching introductory computer science ([data as of 2014](http://cacm.acm.org/blogs/blog-cacm/176450-python-is-now-the-most-popular-introductory-teaching-language-at-top-us-universities/fulltext)) and the second-most popular language for data science ([data as of 2015](http://thenextweb.com/dd/2016/04/08/start-using-python-andor-r-data-science-one-best/#gref)).\n",
    "\n",
    "Python emphasizes the human side of coding: it is considered more important in Python for a human programmer to be able to easily and quickly understand what a piece of code does and why than it is for that code to run quickly when implemented by a machine. This is especially important in an educational setting where understanding is paramount and speed is secondary."
   ]
  },
  {
   "cell_type": "markdown",
   "metadata": {},
   "source": [
    "### Why Python 3?\n",
    "\n",
    "Some people may be coming in using Python 2.7, even though the current (as of August 19, 2016) release version of Python is 3.5. This is due to the non-backwards-compatibility of Python 3, which meant that many scientific computing libraries were slow to update. As recently as two years ago, there were still many packages that were only available in 2.7, but there has been a sea change, and almost all packages are 3-compatible, and soon some of them will only support Python 3.\n",
    "\n",
    "A notable benefit of using a general-purpose open-source language like Python is that you won't be forced to uninstall any version of Python that you currently have. Many of you probably have the [Anaconda distribution](https://store.continuum.io/cshop/anaconda/) of Python, and so have a built-in system for managing multiple Python versions. We'll be using virtual environments, which achieve the same thing but are more lightweight.\n",
    "\n",
    "One big benefit of Python 3.5 for this course is something that appears quite small: matrix/vector multiplication in Python now has its own operator: `@`. In past versions of Python, taking a dot product involved using the function `np.dot`. This may seem small, but it means that instead of having to write and read expressions like:\n",
    "```\n",
    "    dw = np.dot((dataset-np.dot(weights,output)),output.T)\n",
    "```\n",
    "you'll find:\n",
    "```\n",
    "    dw = (dataset - weights @ output) @ output.T\n",
    "```\n",
    "which looks a lot more like the math:\n",
    "\n",
    "$$\n",
    "    \\Delta w = (D - W \\cdot O) \\cdot O^{T}\n",
    "$$\n",
    "\n",
    "and is hopefully easier to read (or at least, it will be a few weeks into the course!)."
   ]
  },
  {
   "cell_type": "markdown",
   "metadata": {},
   "source": [
    "## How Python?"
   ]
  },
  {
   "cell_type": "markdown",
   "metadata": {},
   "source": [
    "The following is based on a tutorial from [Jess Hamrick](http://www.jesshamrick.com/), a Berkeley PhD student in Tom Griffiths' Lab who is also one of the heads of the Jupyter project."
   ]
  },
  {
   "cell_type": "markdown",
   "metadata": {},
   "source": [
    "As in most programming languages, in Python we assign names to variables and apply functions to variables in order to transform them -- to perform computations.\n",
    "\n",
    "We'll briefly review some of the major syntax you need to work in Python.\n",
    "\n",
    "### `from __future__ import jetpack`\n",
    "\n",
    "When you start up a Python environment (e.g. when you open a Jupyter notebook), there is only a small set of [data structures and functions](https://docs.python.org/3.5/library/), called the \"standard library\".\n",
    "\n",
    "In order to do most things we're doing in this course, we need the following libraries:\n",
    "\n",
    "- [`NumPy`](http://docs.scipy.org/doc/numpy/user/index.html) is a numerical computing library that adds support for vector and matrix math to Python. It's a big and powerful library, so it can be a bit intimidating. If you have experience with a different language, check out one of these specific guides:\n",
    "    * [NumPy for Matlab Users](http://mathesaurus.sourceforge.net/matlab-numpy.html)\n",
    "    * [NumPy for R/S+ Users](http://mathesaurus.sourceforge.net/r-numpy.html)\n",
    "    \n",
    "- [`matplotlib`](http://matplotlib.org/resources/index.html) is a plotting library that uses a MATLAB-esque syntax. Plotting and visualizing data is a key skill for any scientist, so I strongly recommend following the link above and checking out some of the tutorials so that you can become a master plotter!\n",
    "\n",
    "We load up these libraries with `import` statements. We additionally give the library a shorter nickname using the `as` keyword:"
   ]
  },
  {
   "cell_type": "code",
   "execution_count": 2,
   "metadata": {
    "collapsed": false
   },
   "outputs": [
    {
     "data": {
      "text/plain": [
       "<module 'numpy' from '/usr/local/lib/python3.4/dist-packages/numpy/__init__.py'>"
      ]
     },
     "execution_count": 2,
     "metadata": {},
     "output_type": "execute_result"
    }
   ],
   "source": [
    "import numpy as np\n",
    "np"
   ]
  },
  {
   "cell_type": "markdown",
   "metadata": {},
   "source": [
    "Now, we can access all of the functions inside the module `numpy`, like `numpy.zeros` and `numpy.multiply` by typing `np.zeros` and so on. The `.` symbol in Python means that we're looking for a thing, like a variable or a function, inside another thing. This means we can have a function `dot` that does something different from `np.dot` and Python won't get confused about which `dot` we're looking for. Radical!\n",
    "\n",
    "We can also have things that are inside things. In fact, there's no reasonable limit on the number of times we can \"go meta\" here. It's `.turtles` all the way down!\n",
    "\n",
    "Let's make use of that to bring in a very important sub-component of `matplotlib` that has its own sub-components:"
   ]
  },
  {
   "cell_type": "code",
   "execution_count": 3,
   "metadata": {
    "collapsed": true
   },
   "outputs": [],
   "source": [
    "import matplotlib.pyplot as plt"
   ]
  },
  {
   "cell_type": "markdown",
   "metadata": {},
   "source": [
    "We'll be using all of the `matplotlib` functionality from within `pyplot` -- or, as far as we're concerned, `plt`. Let's use some `numpy` functions to generate a basic plot."
   ]
  },
  {
   "cell_type": "code",
   "execution_count": 5,
   "metadata": {
    "collapsed": false
   },
   "outputs": [
    {
     "data": {
      "image/png": "iVBORw0KGgoAAAANSUhEUgAAAhAAAAFkCAYAAABxWwLDAAAABHNCSVQICAgIfAhkiAAAAAlwSFlz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\nJEwFQkRERBKmAiEiIiIJU4EQERGRhP0/mLYxtP/a9K0AAAAASUVORK5CYII=\n",
      "text/plain": [
       "<matplotlib.figure.Figure at 0x7f1518256710>"
      ]
     },
     "metadata": {},
     "output_type": "display_data"
    }
   ],
   "source": [
    "x = np.linspace(0,2*np.pi,200) #evenly-spaced numbers from 0 to 2π\n",
    "y = np.sin(x)\n",
    "\n",
    "plt.plot(x,y); plt.show()"
   ]
  },
  {
   "cell_type": "markdown",
   "metadata": {},
   "source": [
    "Thanks to the power of Jupyter notebooks, the plot is displayed inline! This is thanks to the first cell in this notebook, which contains the `magic` command (yes, really) `%matplotlib inline`."
   ]
  },
  {
   "cell_type": "markdown",
   "metadata": {},
   "source": [
    "### `for` loops and lists\n",
    "\n",
    "In Python as in many other languages, we use `for` loops to tell the computer to do the same thing over and over. For example, the following prints the numbers from `0` to `9`:"
   ]
  },
  {
   "cell_type": "code",
   "execution_count": 6,
   "metadata": {
    "collapsed": false
   },
   "outputs": [
    {
     "name": "stdout",
     "output_type": "stream",
     "text": [
      "0\n",
      "1\n",
      "2\n",
      "3\n",
      "4\n",
      "5\n",
      "6\n",
      "7\n",
      "8\n",
      "9\n"
     ]
    }
   ],
   "source": [
    "for number in range(10): #note the colon\n",
    "    print(number) #note the four spaces!"
   ]
  },
  {
   "cell_type": "markdown",
   "metadata": {},
   "source": [
    "Much easier than writing `print(1)`, then `print(2)`, etc. Boring stuff like repeating yourself is the job of computers, not people!\n",
    "\n",
    "One thing that surprises new Python programmers is that the blank spaces are important to make the code above work. Any time you do a `for` loop, you need to indent all of the code that's supposed to be repeated. This includes when you're doing a `for` loop inside a `for` loop! Jupyter does a good job of handling the blank spaces for you, but it's something to watch out for.\n",
    "\n",
    "`for` loops are so important that Python let's you do them over things that aren't just arrays of numbers!"
   ]
  },
  {
   "cell_type": "code",
   "execution_count": 7,
   "metadata": {
    "collapsed": true
   },
   "outputs": [],
   "source": [
    "friends = ['joey', 'rachel', 'phoebe', 'avocado'] \n",
    "#this is how you specify a list of things, \n",
    "# like a list of your friends: [friend0, friend1, friend2]"
   ]
  },
  {
   "cell_type": "markdown",
   "metadata": {},
   "source": [
    "You can easily index inside of a list by giving giving either a positional index or using a slicing notation:"
   ]
  },
  {
   "cell_type": "code",
   "execution_count": 8,
   "metadata": {
    "collapsed": false
   },
   "outputs": [
    {
     "data": {
      "text/plain": [
       "'joey'"
      ]
     },
     "execution_count": 8,
     "metadata": {},
     "output_type": "execute_result"
    }
   ],
   "source": [
    "friends[0]"
   ]
  },
  {
   "cell_type": "code",
   "execution_count": 9,
   "metadata": {
    "collapsed": false
   },
   "outputs": [
    {
     "data": {
      "text/plain": [
       "['joey', 'rachel', 'phoebe']"
      ]
     },
     "execution_count": 9,
     "metadata": {},
     "output_type": "execute_result"
    }
   ],
   "source": [
    "friends[:3]"
   ]
  },
  {
   "cell_type": "markdown",
   "metadata": {},
   "source": [
    "Slicing notation syntax is such that the index before the column represents where to start in the list and the index after the column represents where to end in the list. An empty space defaults to 0 for the former case and the length of the list for the latter case.\n",
    "\n",
    "Oftentimes, you will also see a two colon slice notation. This is the same thing as previously (imagine the colons as creating three different positional arguments) except the last space is the *step size*. A step size of 2 would skip every other element. A step size of -1 reverses the order of your slice."
   ]
  },
  {
   "cell_type": "code",
   "execution_count": 10,
   "metadata": {
    "collapsed": false
   },
   "outputs": [
    {
     "data": {
      "text/plain": [
       "['avocado', 'phoebe', 'rachel', 'joey']"
      ]
     },
     "execution_count": 10,
     "metadata": {},
     "output_type": "execute_result"
    }
   ],
   "source": [
    "friends[::-1]"
   ]
  },
  {
   "cell_type": "code",
   "execution_count": 11,
   "metadata": {
    "collapsed": false
   },
   "outputs": [
    {
     "name": "stdout",
     "output_type": "stream",
     "text": [
      "i love my friend joey\n",
      "i love my friend rachel\n",
      "i love my friend phoebe\n",
      "i love my friend avocado\n"
     ]
    }
   ],
   "source": [
    "for person in friends:\n",
    "    print('i love my friend '+person)"
   ]
  },
  {
   "cell_type": "markdown",
   "metadata": {},
   "source": [
    "Of course, that takes up a lot of space. Python also offers an even more compact way of writing for loops:"
   ]
  },
  {
   "cell_type": "code",
   "execution_count": 12,
   "metadata": {
    "collapsed": false
   },
   "outputs": [
    {
     "name": "stdout",
     "output_type": "stream",
     "text": [
      "i love my friend joey\n",
      "i love my friend rachel\n",
      "i love my friend phoebe\n",
      "i love my friend avocado\n"
     ]
    }
   ],
   "source": [
    "[print('i love my friend '+person) for person in friends];"
   ]
  },
  {
   "cell_type": "markdown",
   "metadata": {},
   "source": [
    "This is called a \"list comprehension\" and it turns one list of values into another. List comprehensions are a nice way to save space, but they can be hard to read, especially when the list at the end is also made from a list comprehension!"
   ]
  },
  {
   "cell_type": "markdown",
   "metadata": {},
   "source": [
    "### Arrays\n",
    "\n",
    "Arrays come from `numpy`, and they are very similar to lists: they're containers for big collections of objects. In fact, we can turn a list into an array by using `np.asarray(list)`. However, they act more like matrices and vectors than like lists of objects. For example, we can multiply them:"
   ]
  },
  {
   "cell_type": "code",
   "execution_count": 14,
   "metadata": {
    "collapsed": false
   },
   "outputs": [
    {
     "name": "stdout",
     "output_type": "stream",
     "text": [
      "vector: [1 2 3]\n",
      "matrix: \n",
      " [[ 0.  0.  0.]\n",
      " [ 0.  0.  0.]\n",
      " [ 0.  0.  0.]]\n",
      "vec-mat product: [ 0.  0.  0.]\n",
      "vec-vec product: 14\n"
     ]
    }
   ],
   "source": [
    "vector = np.asarray([1,2,3]) # the vector [1,2,3]\n",
    "matrix = np.zeros((3,3)) # a matrix of all zeros\n",
    "\n",
    "#vectorVectorProduct = vector @ vector #vector multiplication --> same as vector.dot(vector)\n",
    "#vectorMatrixProduct = matrix @ vector #matrix multiplication --> same as matrix.dot(vector)\n",
    "\n",
    "vectorVectorProduct = vector.dot(vector)\n",
    "vectorMatrixProduct = matrix.dot(vector)\n",
    "\n",
    "print('vector: {0}'.format(vector))\n",
    "print('matrix: \\n {0}'.format(matrix))\n",
    "print('vec-mat product: {0}'.format(vectorMatrixProduct))\n",
    "print('vec-vec product: {0}'.format(vectorVectorProduct))"
   ]
  },
  {
   "cell_type": "markdown",
   "metadata": {},
   "source": [
    "We'll be multiplying a lot of matrices in this class. One thing that often trips people up is making sure that their matrices are aligned: an $M$ by $N$ matrix can only multiply an $N$ vector or and $N$ by $K$ matrix. We can track these very important numbers by using `array.shape`:"
   ]
  },
  {
   "cell_type": "code",
   "execution_count": 15,
   "metadata": {
    "collapsed": false
   },
   "outputs": [
    {
     "name": "stdout",
     "output_type": "stream",
     "text": [
      "(3,)\n"
     ]
    },
    {
     "data": {
      "text/plain": [
       "(3, 3)"
      ]
     },
     "execution_count": 15,
     "metadata": {},
     "output_type": "execute_result"
    }
   ],
   "source": [
    "print(vector.shape)\n",
    "matrix.shape"
   ]
  },
  {
   "cell_type": "markdown",
   "metadata": {},
   "source": [
    "Note that `shape` is a property of every array, just like `pyplot` was a property of `matplotlib`, so it shows up after a `.`\n",
    "\n",
    "Note also that I didn't use a `print` function on `matrix.shape`. That's because, by default, Jupyter notebooks show you the result of running the final line (and only the final line). MATLAB does something similar for every line, except those that end with semicolons (`;`). You can similarly prevent the notebook from printing the results of the last line by including a semicolon:"
   ]
  },
  {
   "cell_type": "code",
   "execution_count": 16,
   "metadata": {
    "collapsed": true
   },
   "outputs": [],
   "source": [
    "matrix.shape; #nothing shows up!"
   ]
  },
  {
   "cell_type": "markdown",
   "metadata": {},
   "source": [
    "## More Python!\n",
    "\n",
    "There's a ton more Python to learn!\n",
    "\n",
    "[The blog post](http://bastibe.de/2013-01-20-a-python-primer-for-matlab-users.html) linked all the way back at the start is written to help MATLAB users learn to use Python. It has lots of nice links to the [official Python tutorial](https://docs.python.org/3.3/tutorial/) and the [SciPy cookbook](http://scipy-cookbook.readthedocs.io/), which has lots of recipes specialized for the problems scientists need to solve with Python."
   ]
  }
 ],
 "metadata": {
  "anaconda-cloud": {},
  "kernelspec": {
   "display_name": "Python [default]",
   "language": "python",
   "name": "python3"
  },
  "language_info": {
   "codemirror_mode": {
    "name": "ipython",
    "version": 3
   },
   "file_extension": ".py",
   "mimetype": "text/x-python",
   "name": "python",
   "nbconvert_exporter": "python",
   "pygments_lexer": "ipython3",
<<<<<<< HEAD
   "version": "3.4.3"
=======
   "version": "3.5.2"
>>>>>>> b3d8c41c6061970a4f347ac47b2d309f36755351
  }
 },
 "nbformat": 4,
 "nbformat_minor": 0
}

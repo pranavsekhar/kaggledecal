{
 "cells": [
  {
   "cell_type": "code",
   "execution_count": 1,
   "metadata": {
    "collapsed": false
   },
   "outputs": [],
   "source": [
    "#### RUN ME PLEASE ####\n",
    "\"\"\"Use 'Shift + Enter' when focused on this cell.\"\"\"\n",
    "import numpy as np"
   ]
  },
  {
   "cell_type": "markdown",
   "metadata": {},
   "source": [
    "# Python for DS Practice\n",
    "## Data Science for Kaggle Decal Spring 2017\n",
    "\n",
    "\n",
    "Welcome to the first pset. This should be a really simple intro to numpy. We are structuring it to get you familiar with the tools we will be using for this class. Make sure that you run the first cell before any others otherwise you'll get errors for not including the numpy package.\n",
    "\n",
    "If you have trouble with any question, first consult any old notebooks. Especially those from class today.\n",
    "Then, ask [Piazza](https://piazza.com/class/iy117z6nv30626?cid=9)! We'll try to get back to you asap through there. "
   ]
  },
  {
   "cell_type": "markdown",
   "metadata": {},
   "source": [
    "# Problem 1\n",
    "Fill `fun_array` with values 1-100 using a numpy method. Use google to find the answer."
   ]
  },
  {
   "cell_type": "code",
   "execution_count": 4,
   "metadata": {
    "collapsed": false
   },
   "outputs": [],
   "source": [
    "fun_array = np.arange(1, 101)"
   ]
  },
  {
   "cell_type": "markdown",
   "metadata": {},
   "source": [
    "# Problem 2 \n",
    "Take the square root of each element in fun_array using numpy commands. Don't use a `for` loop"
   ]
  },
  {
   "cell_type": "code",
   "execution_count": 5,
   "metadata": {
    "collapsed": false
   },
   "outputs": [
    {
     "data": {
      "text/plain": [
       "array([  1.        ,   1.41421356,   1.73205081,   2.        ,\n",
       "         2.23606798,   2.44948974,   2.64575131,   2.82842712,\n",
       "         3.        ,   3.16227766,   3.31662479,   3.46410162,\n",
       "         3.60555128,   3.74165739,   3.87298335,   4.        ,\n",
       "         4.12310563,   4.24264069,   4.35889894,   4.47213595,\n",
       "         4.58257569,   4.69041576,   4.79583152,   4.89897949,\n",
       "         5.        ,   5.09901951,   5.19615242,   5.29150262,\n",
       "         5.38516481,   5.47722558,   5.56776436,   5.65685425,\n",
       "         5.74456265,   5.83095189,   5.91607978,   6.        ,\n",
       "         6.08276253,   6.164414  ,   6.244998  ,   6.32455532,\n",
       "         6.40312424,   6.4807407 ,   6.55743852,   6.63324958,\n",
       "         6.70820393,   6.78232998,   6.8556546 ,   6.92820323,\n",
       "         7.        ,   7.07106781,   7.14142843,   7.21110255,\n",
       "         7.28010989,   7.34846923,   7.41619849,   7.48331477,\n",
       "         7.54983444,   7.61577311,   7.68114575,   7.74596669,\n",
       "         7.81024968,   7.87400787,   7.93725393,   8.        ,\n",
       "         8.06225775,   8.1240384 ,   8.18535277,   8.24621125,\n",
       "         8.30662386,   8.36660027,   8.42614977,   8.48528137,\n",
       "         8.54400375,   8.60232527,   8.66025404,   8.71779789,\n",
       "         8.77496439,   8.83176087,   8.88819442,   8.94427191,\n",
       "         9.        ,   9.05538514,   9.11043358,   9.16515139,\n",
       "         9.21954446,   9.2736185 ,   9.32737905,   9.38083152,\n",
       "         9.43398113,   9.48683298,   9.53939201,   9.59166305,\n",
       "         9.64365076,   9.69535971,   9.74679434,   9.79795897,\n",
       "         9.8488578 ,   9.89949494,   9.94987437,  10.        ])"
      ]
     },
     "execution_count": 5,
     "metadata": {},
     "output_type": "execute_result"
    }
   ],
   "source": [
    "fun_array = np.sqrt(fun_array)\n",
    "fun_array"
   ]
  },
  {
   "cell_type": "markdown",
   "metadata": {},
   "source": [
    "# Problem 3\n",
    "Fill this array with 100 random integers from 0 to 100. Your answer should use only a single method call like `np.<method>(<parameters>)`. It might be more than one package deep (i.e. `np.<package>.<method>(<params>)`)"
   ]
  },
  {
   "cell_type": "code",
   "execution_count": 8,
   "metadata": {
    "collapsed": false
   },
   "outputs": [
    {
     "data": {
      "text/plain": [
       "array([61, 89, 55, 62, 89, 89, 94, 49, 36, 77, 93, 68, 32, 85, 49, 12, 37,\n",
       "       58, 97, 64, 57, 26, 89, 41, 43, 19, 88, 40, 28,  2,  6, 94, 60, 31,\n",
       "       59, 20, 79, 15, 19, 39,  3, 98, 88, 92, 88, 24, 64, 33, 41,  9, 33,\n",
       "       71, 37, 62,  4, 42, 67, 11, 62, 29, 78,  9, 13, 18, 85, 44, 10, 38,\n",
       "       52, 11, 85, 66, 32, 91, 14, 65, 73, 90,  4, 35, 20, 76, 16, 25,  0,\n",
       "       50, 35, 99, 72, 23,  0, 55, 84, 46, 35, 56, 80, 87,  8, 90])"
      ]
     },
     "execution_count": 8,
     "metadata": {},
     "output_type": "execute_result"
    }
   ],
   "source": [
    "random_array = np.random.randint(0,100,100)\n",
    "random_array"
   ]
  },
  {
   "cell_type": "markdown",
   "metadata": {},
   "source": [
    "# Problem 4\n",
    "Multiply each element in `random_array` by `5`. Do not use a `for` loop."
   ]
  },
  {
   "cell_type": "code",
   "execution_count": 10,
   "metadata": {
    "collapsed": false
   },
   "outputs": [
    {
     "data": {
      "text/plain": [
       "array([305, 445, 275, 310, 445, 445, 470, 245, 180, 385, 465, 340, 160,\n",
       "       425, 245,  60, 185, 290, 485, 320, 285, 130, 445, 205, 215,  95,\n",
       "       440, 200, 140,  10,  30, 470, 300, 155, 295, 100, 395,  75,  95,\n",
       "       195,  15, 490, 440, 460, 440, 120, 320, 165, 205,  45, 165, 355,\n",
       "       185, 310,  20, 210, 335,  55, 310, 145, 390,  45,  65,  90, 425,\n",
       "       220,  50, 190, 260,  55, 425, 330, 160, 455,  70, 325, 365, 450,\n",
       "        20, 175, 100, 380,  80, 125,   0, 250, 175, 495, 360, 115,   0,\n",
       "       275, 420, 230, 175, 280, 400, 435,  40, 450])"
      ]
     },
     "execution_count": 10,
     "metadata": {},
     "output_type": "execute_result"
    }
   ],
   "source": [
    "random_arrayx5 = random_array * 5## YOUR CODE HERE\n",
    "random_arrayx5"
   ]
  },
  {
   "cell_type": "markdown",
   "metadata": {},
   "source": [
    "# Problem 5\n",
    "Multiply matrix $X$ and multiply with $\\vec{y}$ using numpy commands. Should be only 1 line."
   ]
  },
  {
   "cell_type": "code",
   "execution_count": 12,
   "metadata": {
    "collapsed": false
   },
   "outputs": [
    {
     "name": "stdout",
     "output_type": "stream",
     "text": [
      "[14 32 50]\n",
      "[14 32 50]\n"
     ]
    }
   ],
   "source": [
    "X = np.array([[1,2,3],[4,5,6],[7,8,9]])\n",
    "y = np.array([1,2,3])\n",
    "### YOUR CODE BELOW ###\n",
    "print(X @ y)\n",
    "# OR\n",
    "print(X.dot(y))\n",
    "\n",
    "### END YOUR CODE ###\n"
   ]
  },
  {
   "cell_type": "markdown",
   "metadata": {},
   "source": [
    "# Problem 6\n",
    "Get the shape of `X` and output it. Do it with and without a print() statement for full credit."
   ]
  },
  {
   "cell_type": "code",
   "execution_count": 14,
   "metadata": {
    "collapsed": false
   },
   "outputs": [
    {
     "name": "stdout",
     "output_type": "stream",
     "text": [
      "(3, 3)\n"
     ]
    },
    {
     "data": {
      "text/plain": [
       "(3, 3)"
      ]
     },
     "execution_count": 14,
     "metadata": {},
     "output_type": "execute_result"
    }
   ],
   "source": [
    "print(X.shape)\n",
    "X.shape"
   ]
  },
  {
   "cell_type": "markdown",
   "metadata": {},
   "source": [
    "# Problem 7\n",
    "Fill in the missing code so that you can plot \n",
    "\n",
    "This is a very simple 2 line problem. You should read [the `matplotlib` documentation](http://matplotlib.org/users/pyplot_tutorial.html) regardless of how familiar you are with matplotlib. \n",
    "\n",
    "Alternatively, google how to plot a graph using matplotlib. You'll probably find an answer on stack overflow\n",
    "\n",
    "I almost always copy and past matplotlib code whenever I need to use it."
   ]
  },
  {
   "cell_type": "code",
   "execution_count": 18,
   "metadata": {
    "collapsed": false
   },
   "outputs": [
    {
     "data": {
      "text/plain": [
       "(0, 5)"
      ]
     },
     "execution_count": 18,
     "metadata": {},
     "output_type": "execute_result"
    },
    {
     "data": {
      "image/png": "[encoded data removed]",
      "text/plain": [
       "<matplotlib.figure.Figure at 0x1053cc1d0>"
      ]
     },
     "metadata": {},
     "output_type": "display_data"
    }
   ],
   "source": [
    "%matplotlib inline\n",
    "import matplotlib.pyplot as plt\n",
    "X = np.linspace(0, 5, 500) #np.arange(500)\n",
    "\n",
    "# These are just to represent actual training and testing \n",
    "training_accuracy = np.exp(-(X)) * np.exp(1.5) + 0.5\n",
    "testing_accuracy = (X - 2.4)**2 + 1\n",
    "\n",
    "### YOUR CODE BELOW ###\n",
    "plt.plot(training_accuracy)\n",
    "plt.plot(testing_accuracy)\n",
    "### END YOUR CODE ###\n",
    "\n",
    "plt.title(\"Bias Variance\")\n",
    "plt.xlabel(\"Parameter Value \")\n",
    "plt.ylabel(\"Error\")\n",
    "plt.legend(labels=['Training Error','Testing Error'])\n",
    "axes = plt.gca()\n",
    "axes.set_ylim([0,5])"
   ]
  },
  {
   "cell_type": "markdown",
   "metadata": {},
   "source": [
    "# HOMEWORK SUBMISSION\n",
    "We will be submitting work through gradescope. You must make your submission in pdf format so that we can easily process them using gradescope question matching.\n",
    "## Saving the file as a pdf\n",
    "\n",
    "In the menu bar, you simply follow\n",
    "`File > Print Preview` \n",
    "Then print the webpage and Save as PDF. This differs per browser/OS so you may have to spend some time looking for this option to save. \n",
    "\n",
    "## Submitting\n",
    "Go to [gradescope.com](https://gradescope.com/), and click on the box  that says `Add a course`. Type in `9KPPBM` to the course enrollment spot and you should be good to go. If you are not enrolled in the course, we will remove you from gradescope so please only enroll if we have sent you a permission numer. \n",
    "\n",
    "When you are in the course, navigate to `Problem Set 1`. On the submission page, select upload and upload the pdf you just downloaded. You will be required to label your questions appropriately.\n"
   ]
  },
  {
   "cell_type": "code",
   "execution_count": null,
   "metadata": {
    "collapsed": true
   },
   "outputs": [],
   "source": []
  }
 ],
 "metadata": {
  "kernelspec": {
   "display_name": "Python 3",
   "language": "python",
   "name": "python3"
  },
  "language_info": {
   "codemirror_mode": {
    "name": "ipython",
    "version": 3
   },
   "file_extension": ".py",
   "mimetype": "text/x-python",
   "name": "python",
   "nbconvert_exporter": "python",
   "pygments_lexer": "ipython3",
   "version": "3.5.0"
  }
 },
 "nbformat": 4,
 "nbformat_minor": 0
}
